{
 "cells": [
  {
   "cell_type": "markdown",
   "metadata": {
    "id": "E9Y5ss1ZYj3r"
   },
   "source": [
    "# Python_Lab_2.2\n"
   ]
  },
  {
   "cell_type": "markdown",
   "metadata": {
    "id": "Q1kAqc72Yj3t"
   },
   "source": [
    "### Task 1\n",
    "1. Write a program that prompts the user to enter two numbers and prints their division. Handle cases where the user enters non-numeric values or attempts to divide by zero using a try-except block.\n"
   ]
  },
  {
   "cell_type": "code",
   "execution_count": 21,
   "metadata": {
    "id": "H-xyoRTVYj3t"
   },
   "outputs": [
    {
     "name": "stdin",
     "output_type": "stream",
     "text": [
      "Enter the first number:  5\n",
      "Enter the second number:  0\n"
     ]
    },
    {
     "name": "stdout",
     "output_type": "stream",
     "text": [
      "Cannot divide by zero\n"
     ]
    }
   ],
   "source": [
    "# write your code here ^_^\n",
    "\n",
    "def division_handled():\n",
    "    try:\n",
    "        num1 = float(input(\"Enter the first number: \"))\n",
    "        num2 = float(input(\"Enter the second number: \"))\n",
    "        \n",
    "        result = round(num1 / num2,2)\n",
    "        \n",
    "        print(f\"The result is: {result}\")\n",
    "    \n",
    "    except ValueError:\n",
    "        print(\"Please enter numeric values\")\n",
    "    \n",
    "    except ZeroDivisionError:\n",
    "        print(\"Cannot divide by zero\")\n",
    "    \n",
    "    except :\n",
    "        print(\"error\")\n",
    "\n",
    "division_handled()\n",
    "    \n",
    "    \n",
    "    \n",
    "    "
   ]
  },
  {
   "cell_type": "markdown",
   "metadata": {
    "id": "CPWcDSC_Yj3u"
   },
   "source": [
    "### Task 2\n",
    "- Use \"Random\" library to do the following:\n",
    "    1. Create a list of random numbers using list comprehension.\n",
    "    2. Create a list of squares of the even numbers from random numbers using list comprehension.\n",
    "    3. Create a list of tuples (number, square) for random numbers using list comprehension."
   ]
  },
  {
   "cell_type": "code",
   "execution_count": 42,
   "metadata": {
    "id": "Yfq-i6CeYj3u"
   },
   "outputs": [
    {
     "name": "stdout",
     "output_type": "stream",
     "text": [
      "Random numbers: [20, 9, 5, 8, 17]\n",
      "Squares of even numbers: [400, 64]\n",
      "Number and square tuples: [(20, 400), (9, 81), (5, 25), (8, 64), (17, 289)]\n"
     ]
    }
   ],
   "source": [
    "# write your code here ^_^\n",
    "import random\n",
    "\n",
    "random_numbers = [random.randint(1, 20) for i in range(5)]\n",
    "even_squares = [num**2 for num in random_numbers if num % 2 == 0]\n",
    "tuple1 = [(num, num**2) for num in random_numbers]\n",
    "\n",
    "print(\"Random numbers:\", random_numbers)\n",
    "print(\"Squares of even numbers:\", even_squares)\n",
    "print(\"Number and square tuples:\", tuple1)"
   ]
  },
  {
   "cell_type": "markdown",
   "metadata": {
    "id": "jYdOq46NYj3u"
   },
   "source": [
    "### Task 3\n",
    "- Create a dictionary where the keys are numbers from 1 to 5 and the values are list of their squares and cubes.\n",
    "\n",
    "  - **hint**: use dictionary of list comprehension.\n",
    "\n",
    "- Create a dictionary from two lists (one with keys and one with values) using dictionary comprehension.\n",
    "\n"
   ]
  },
  {
   "cell_type": "code",
   "execution_count": 58,
   "metadata": {
    "id": "IEnsiNmCYj3u"
   },
   "outputs": [
    {
     "name": "stdout",
     "output_type": "stream",
     "text": [
      "{1: [1, 1], 2: [4, 8], 3: [9, 27], 4: [16, 64], 5: [25, 125]}\n",
      "{'notebook': 7, 'intersteller': 8, 'la la land': 9}\n"
     ]
    }
   ],
   "source": [
    "# write your code here ^_^\n",
    "Dicitionary = {num: [num**2, num**3] for num in range(1, 6)}\n",
    "print(Dicitionary)\n",
    "\n",
    "\n",
    "movie = ['notebook', 'intersteller', 'la la land']\n",
    "rate = [7, 8, 9]\n",
    "\n",
    "movie_rate = {k: v for k, v in zip(movie, rate)}\n",
    "\n",
    "print(movie_rate)\n",
    "\n",
    "\n"
   ]
  },
  {
   "cell_type": "markdown",
   "metadata": {
    "id": "6T9TCQ8SYj3v"
   },
   "source": [
    "### Task 4\n",
    "- Given a dictionary where keys are student names and values are lists of their scores, write a function that updates the scores of students who have achieved a perfect score (100) by adding a bonus of 5 points to each score. Use dictionary comprehension to achieve this.\n",
    "\n",
    "    - Implement the function add_bonus_to_perfect_scores(student_scores) that adds a bonus of 5 points to each score of students who have achieved a perfect score (100)."
   ]
  },
  {
   "cell_type": "code",
   "execution_count": 54,
   "metadata": {
    "id": "T3R_VsQpYj3v"
   },
   "outputs": [
    {
     "name": "stdout",
     "output_type": "stream",
     "text": [
      "students scores after ponus: {'sarah': [95, 105, 90], 'maha': [105, 90, 105], 'nora': [105, 105, 105]}\n"
     ]
    }
   ],
   "source": [
    "# write your code here ^_^\n",
    "def add_bonus(student_scores):\n",
    "    updated_scores = {student: [score + 5 if score == 100 else score for score in scores] for student, scores in student_scores.items()}\n",
    "    return updated_scores\n",
    "\n",
    "student_scores = {\n",
    "    'sarah': [95, 100, 90],\n",
    "    'maha': [100, 90, 100],\n",
    "    'nora': [100, 100, 100]\n",
    "}\n",
    "\n",
    "after_ponus = add_bonus(student_scores)\n",
    "print(\"students scores after ponus:\", after_ponus)\n",
    "\n"
   ]
  },
  {
   "cell_type": "markdown",
   "metadata": {
    "id": "rJkOEFAwYj3v"
   },
   "source": []
  }
 ],
 "metadata": {
  "colab": {
   "provenance": []
  },
  "kernelspec": {
   "display_name": "Python 3 (ipykernel)",
   "language": "python",
   "name": "python3"
  },
  "language_info": {
   "codemirror_mode": {
    "name": "ipython",
    "version": 3
   },
   "file_extension": ".py",
   "mimetype": "text/x-python",
   "name": "python",
   "nbconvert_exporter": "python",
   "pygments_lexer": "ipython3",
   "version": "3.12.4"
  }
 },
 "nbformat": 4,
 "nbformat_minor": 4
}
